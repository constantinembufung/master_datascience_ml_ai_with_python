{
 "cells": [
  {
   "cell_type": "markdown",
   "id": "073ff566",
   "metadata": {},
   "source": [
    "# MASTER DATA SCIENCE, MACHINE LEARNING, and AI with PYTHON in 90 days\n",
    "\n",
    "#### Join the hashtag on x #90daysDataScienceWithPython"
   ]
  },
  {
   "cell_type": "markdown",
   "id": "8f36f3a7",
   "metadata": {},
   "source": [
    "## Day 1 - #90daysDataScienceWithPython\n",
    "Topic: Installing Python\n",
    "1. Download python from www.python.org/downloads\n",
    "2. Install pip\n",
    "3. Install anaconda - Jupyter Notebook or any other IDE "
   ]
  },
  {
   "cell_type": "markdown",
   "id": "a02da03c",
   "metadata": {},
   "source": [
    "## Day 2 - #90daysDataScienceWithPython Variables\n",
    "### Variables are used to store data values.\n",
    "\n",
    "### 1. Defining and Assigning Variables\n",
    "A variable in Python is created by assigning a value to it. Python is dynamically typed, meaning that you don’t need to declare a variable type explicitly."
   ]
  },
  {
   "cell_type": "code",
   "execution_count": 2,
   "id": "4c5d3b4d",
   "metadata": {},
   "outputs": [
    {
     "data": {
      "text/plain": [
       "(10, 'Alice', 5.7, True, int, str, float, bool)"
      ]
     },
     "execution_count": 2,
     "metadata": {},
     "output_type": "execute_result"
    }
   ],
   "source": [
    "#assigning values to variables\n",
    "x = 10 # intger\n",
    "name = \"Alice\" #string\n",
    "height = 5.7 #float\n",
    "is_active = True #boolean\n",
    "\n",
    "x, name, height, is_active, type(x) ,type(name), type(height), type(is_active)"
   ]
  },
  {
   "cell_type": "code",
   "execution_count": 3,
   "id": "0ce838de",
   "metadata": {},
   "outputs": [
    {
     "name": "stdout",
     "output_type": "stream",
     "text": [
      "10\n"
     ]
    }
   ],
   "source": [
    "print(x)"
   ]
  },
  {
   "cell_type": "code",
   "execution_count": 4,
   "id": "9d99e901",
   "metadata": {},
   "outputs": [
    {
     "data": {
      "text/plain": [
       "10"
      ]
     },
     "execution_count": 4,
     "metadata": {},
     "output_type": "execute_result"
    }
   ],
   "source": [
    "x"
   ]
  },
  {
   "cell_type": "markdown",
   "id": "92139d5f",
   "metadata": {},
   "source": [
    "## 2. Naming Variables\n",
    "- Can contain letters (a-z, A-Z), digits (0-9), and underscores (_).\n",
    "- Cannot start with a digit (e.g., 2variable is invalid).\n",
    "- Cannot be a reserved keyword (e.g., class, try, if).\n",
    "- Variable names are case-sensitive (e.g., age and Age are different)."
   ]
  },
  {
   "cell_type": "code",
   "execution_count": 5,
   "id": "9fa33579",
   "metadata": {},
   "outputs": [],
   "source": [
    "#valid variable names \n",
    "age = 25 \n",
    "name = \"John\"\n",
    "_isValue = True\n",
    "\n",
    "#invalid variable names\n",
    "1age = 30 #names cannot start with a number"
   ]
  },
  {
   "cell_type": "code",
   "execution_count": 8,
   "id": "362863f5",
   "metadata": {},
   "outputs": [
    {
     "ename": "SyntaxError",
     "evalue": "invalid syntax (2787194079.py, line 1)",
     "output_type": "error",
     "traceback": [
      "\u001b[1;36m  File \u001b[1;32m\"C:\\Users\\PC\\AppData\\Local\\Temp\\ipykernel_16980\\2787194079.py\"\u001b[1;36m, line \u001b[1;32m1\u001b[0m\n\u001b[1;33m    name of my school = \"GS Down Beach\"\u001b[0m\n\u001b[1;37m         ^\u001b[0m\n\u001b[1;31mSyntaxError\u001b[0m\u001b[1;31m:\u001b[0m invalid syntax\n"
     ]
    }
   ],
   "source": [
    "name of my school = \"GS Down Beach\""
   ]
  },
  {
   "cell_type": "markdown",
   "id": "2fd33df4",
   "metadata": {},
   "source": [
    "### 3. Data Types of Variables\n",
    "Python variables can hold different types of data. Here are some common types:\n",
    "\n",
    "- Integer: Whole numbers, e.g., x = 10.\n",
    "- Float: Decimal numbers, e.g., y = 3.14.\n",
    "- String: Text, e.g., greeting = \"Hello\".\n",
    "- Boolean: True or False values, e.g., is_valid = True.\n",
    "- List: A collection of items, e.g., numbers = [1, 2, 3].\n",
    "- Tuple: An immutable collection of items, e.g., coordinates = (1, 2).\n",
    "- Dictionary: A collection of key-value pairs, e.g., person = {\"name\": \"Alice\", \"age\": 30}."
   ]
  },
  {
   "cell_type": "code",
   "execution_count": 12,
   "id": "21afd2a7",
   "metadata": {},
   "outputs": [
    {
     "data": {
      "text/plain": [
       "tuple"
      ]
     },
     "execution_count": 12,
     "metadata": {},
     "output_type": "execute_result"
    }
   ],
   "source": [
    "fruits = (\" Apples\", \"Mangoes\", \"oranges\")\n",
    "type(fruits)"
   ]
  },
  {
   "cell_type": "markdown",
   "id": "da6a57bf",
   "metadata": {},
   "source": [
    "### 4. Reassigning Values\n",
    "You can reassign a value to an existing variable. Since Python is dynamically typed, the type of the variable can also change."
   ]
  },
  {
   "cell_type": "code",
   "execution_count": 13,
   "id": "9bdebf35",
   "metadata": {},
   "outputs": [],
   "source": [
    "x = 10        # Integer\n",
    "x = \"Hello\"   # Now x is a string\n",
    "x = [1, 2, 3] # Now x is a list\n"
   ]
  },
  {
   "cell_type": "markdown",
   "id": "2cee3a97",
   "metadata": {},
   "source": [
    "### 5. Multiple Assignments\n",
    "Python allows you to assign values to multiple variables in a single line."
   ]
  },
  {
   "cell_type": "code",
   "execution_count": 9,
   "id": "a83a6981",
   "metadata": {},
   "outputs": [
    {
     "name": "stdout",
     "output_type": "stream",
     "text": [
      "1\n",
      "2.5\n",
      "Hello\n"
     ]
    }
   ],
   "source": [
    "a, b, c = 1, 2.5, \"Hello\"\n",
    "print(a)  # 1\n",
    "print(b)  # 2.5\n",
    "print(c)  # \"Hello\"\n"
   ]
  },
  {
   "cell_type": "code",
   "execution_count": 14,
   "id": "dfba1a71",
   "metadata": {},
   "outputs": [
    {
     "name": "stdout",
     "output_type": "stream",
     "text": [
      "100 100 100\n"
     ]
    }
   ],
   "source": [
    "x = y = z = 100\n",
    "print(x, y, z)  # 100 100 100\n"
   ]
  },
  {
   "cell_type": "markdown",
   "id": "28d8d471",
   "metadata": {},
   "source": [
    "### 6. Type Checking and Conversion\n",
    "You can check the type of a variable using the type() function."
   ]
  },
  {
   "cell_type": "code",
   "execution_count": 15,
   "id": "3876a8f7",
   "metadata": {},
   "outputs": [
    {
     "name": "stdout",
     "output_type": "stream",
     "text": [
      "<class 'int'>\n",
      "<class 'float'>\n"
     ]
    }
   ],
   "source": [
    "a = 10\n",
    "print(type(a))  # <class 'int'>\n",
    "\n",
    "b = 3.14\n",
    "print(type(b))  # <class 'float'>\n"
   ]
  },
  {
   "cell_type": "code",
   "execution_count": 12,
   "id": "e6bf6f0e",
   "metadata": {},
   "outputs": [
    {
     "name": "stdout",
     "output_type": "stream",
     "text": [
      "10.0\n",
      "10\n"
     ]
    }
   ],
   "source": [
    "a = 10  # Integer\n",
    "b = float(a)  # Convert to float\n",
    "print(b)  # 10.0\n",
    "\n",
    "c = str(a)  # Convert to string\n",
    "print(c)  # \"10\"\n"
   ]
  },
  {
   "cell_type": "markdown",
   "id": "a95c77f8",
   "metadata": {},
   "source": [
    "### 7. Global vs Local Variables\n",
    "- Local variables: Variables that are defined inside a function and can only be used within that function.\n",
    "- Global variables: Variables that are defined outside of all functions and can be accessed anywhere in the script."
   ]
  },
  {
   "cell_type": "code",
   "execution_count": 19,
   "id": "5ba4de66",
   "metadata": {},
   "outputs": [
    {
     "name": "stdout",
     "output_type": "stream",
     "text": [
      "value of x 5\n",
      "10\n",
      "100\n"
     ]
    }
   ],
   "source": [
    "# Global variable\n",
    "x = 5\n",
    "\n",
    "def my_function():\n",
    "    # Local variable\n",
    "    y = 10\n",
    "    print(\"value of x\", x)  # Can access global variable\n",
    "    print(y)  # Can access local variable\n",
    "\n",
    "my_function()\n",
    "# print(y)  # Error: y is not defined outside the function\n",
    "print(y)"
   ]
  },
  {
   "cell_type": "markdown",
   "id": "2eafe010",
   "metadata": {},
   "source": [
    "### 8. Constants in Python\n",
    "Python does not have built-in constant variables, but you can use all-uppercase names to indicate constants (this is a convention, not a rule)."
   ]
  },
  {
   "cell_type": "code",
   "execution_count": 14,
   "id": "e819e879",
   "metadata": {},
   "outputs": [],
   "source": [
    "PI = 3.14159  # Constant\n",
    "MAX_USERS = 1000  # Constant\n"
   ]
  },
  {
   "cell_type": "markdown",
   "id": "b9e20648",
   "metadata": {},
   "source": [
    "### 9. Unpacking Variables\n",
    "You can unpack values from data structures like lists or tuples into variables."
   ]
  },
  {
   "cell_type": "code",
   "execution_count": 22,
   "id": "30194c54",
   "metadata": {},
   "outputs": [
    {
     "data": {
      "text/plain": [
       "(' Apples', 'Mangoes', 'oranges')"
      ]
     },
     "execution_count": 22,
     "metadata": {},
     "output_type": "execute_result"
    }
   ],
   "source": [
    "fruits"
   ]
  },
  {
   "cell_type": "code",
   "execution_count": 21,
   "id": "7ef67d5b",
   "metadata": {},
   "outputs": [
    {
     "name": "stdout",
     "output_type": "stream",
     "text": [
      " Apples\n"
     ]
    }
   ],
   "source": [
    "a,b,c = fruits\n",
    "print(a)"
   ]
  },
  {
   "cell_type": "code",
   "execution_count": 3,
   "id": "1b114518",
   "metadata": {},
   "outputs": [
    {
     "name": "stdout",
     "output_type": "stream",
     "text": [
      "1 2 3\n",
      "Alice 30\n"
     ]
    }
   ],
   "source": [
    "# Unpacking a list into variables\n",
    "data = [1, 2, 3]\n",
    "a, b, c = data\n",
    "print(a, b, c)  # 1 2 3\n",
    "\n",
    "# Unpacking a tuple\n",
    "person = (\"Alice\", 30)\n",
    "name, age = person\n",
    "print(name, age)  # Alice 30"
   ]
  },
  {
   "cell_type": "markdown",
   "id": "b2ea5a8b",
   "metadata": {},
   "source": [
    "## Day 3 - #90daysDataScienceWithPython  - Python Operators\n",
    "\n",
    "Operators are symbols or keywords that perform operations on variables and values. use to manipulate data and perform computations. \n",
    "\n",
    "#### 1. Arithmetic Operators \n",
    " - Addition(+)\n",
    " - Subtraction(-)\n",
    " - Multiplication(*)\n",
    " - Division (/ returns a float)\n",
    " - Floor Division (//) (returns the quotient, rounded down to the nearest integer)\n",
    " - Modulus(%) (returns the remainder of a division)\n",
    " - Exponentiation(**) (raises the left operand to the power of the right operand)\n"
   ]
  },
  {
   "cell_type": "code",
   "execution_count": 42,
   "id": "b6542820",
   "metadata": {},
   "outputs": [
    {
     "name": "stdout",
     "output_type": "stream",
     "text": [
      "13\n",
      "5\n",
      "36\n",
      "2.25\n",
      "2\n",
      "1\n",
      "81\n"
     ]
    }
   ],
   "source": [
    "x = 9\n",
    "y = 4\n",
    "\n",
    "print(x+y)\n",
    "print(x-y)\n",
    "print(x*y)\n",
    "print(x/y)\n",
    "print(x//y)\n",
    "print(x%y)\n",
    "print(x**2)"
   ]
  },
  {
   "cell_type": "markdown",
   "id": "57643e75",
   "metadata": {},
   "source": [
    "#### 2. Comparison (Relational) Operators (==, !=, >,>=,<, <=)\n",
    " - : Equal to (==)\n",
    " -  Not equal to  (!=)\n",
    " - Greater than (>)\n",
    " - Less than (<)\n",
    " - Greater than or equal to (>=)\n",
    " - Less than or equal to (<=)"
   ]
  },
  {
   "cell_type": "code",
   "execution_count": 43,
   "id": "fa1ffc21",
   "metadata": {},
   "outputs": [
    {
     "name": "stdout",
     "output_type": "stream",
     "text": [
      "False\n",
      "True\n",
      "True\n",
      "True\n",
      "False\n"
     ]
    }
   ],
   "source": [
    "x = 9\n",
    "y = 4\n",
    "\n",
    "print(x==y)\n",
    "print(x != y)\n",
    "print(x > y)\n",
    "print(x >= y)\n",
    "print(x< y)"
   ]
  },
  {
   "cell_type": "markdown",
   "id": "fc3db9d3",
   "metadata": {},
   "source": [
    "\n",
    "#### 3. Logical Operators ( and, or and not) \n",
    "- and : Returns True if both conditions are true\n",
    "- or : Returns True if at least one of the conditions is true\n",
    "- not ; Reverses the Boolean value\n"
   ]
  },
  {
   "cell_type": "code",
   "execution_count": 46,
   "id": "3fee5dab",
   "metadata": {},
   "outputs": [
    {
     "name": "stdout",
     "output_type": "stream",
     "text": [
      "No\n"
     ]
    }
   ],
   "source": [
    "x = 9\n",
    "y = 4\n",
    "\n",
    "if x > 2 and y < 0:\n",
    "    print (\"yes\")\n",
    "else :\n",
    "    print(\"No\")"
   ]
  },
  {
   "cell_type": "code",
   "execution_count": 47,
   "id": "186f02ca",
   "metadata": {},
   "outputs": [
    {
     "name": "stdout",
     "output_type": "stream",
     "text": [
      "4\n"
     ]
    }
   ],
   "source": [
    "if x > 0 or y < 0:\n",
    "    print(y)"
   ]
  },
  {
   "cell_type": "code",
   "execution_count": 50,
   "id": "1ae23493",
   "metadata": {},
   "outputs": [
    {
     "data": {
      "text/plain": [
       "True"
      ]
     },
     "execution_count": 50,
     "metadata": {},
     "output_type": "execute_result"
    }
   ],
   "source": [
    "not(x < y)"
   ]
  },
  {
   "cell_type": "markdown",
   "id": "fd366ba2",
   "metadata": {},
   "source": [
    "#### 4. Assignment Operators\n",
    "- simple assigment (=)\n",
    "- += add and assign\n",
    "- -= substrat and assign\n",
    "- *= multiply and assign\n",
    "- /= divide and assign\n",
    "- //= floor divide and assign\n",
    "- %= modulus and assign\n",
    "- **= exponentiation and assign\n"
   ]
  },
  {
   "cell_type": "code",
   "execution_count": 55,
   "id": "64eacc54",
   "metadata": {},
   "outputs": [
    {
     "data": {
      "text/plain": [
       "81"
      ]
     },
     "execution_count": 55,
     "metadata": {},
     "output_type": "execute_result"
    }
   ],
   "source": [
    "x = 9\n",
    "x **=2 # x = x + 2\n",
    "x"
   ]
  },
  {
   "cell_type": "markdown",
   "id": "0d6ba34b",
   "metadata": {},
   "source": [
    "#### 5. Bitwise Operators\n",
    "These operators work with binary values (bits) of integers.\n",
    "\n",
    "- & : AND (performs bitwise AND operation)\n",
    "- | : OR (performs bitwise OR operation)\n",
    "- ^ : XOR (performs bitwise XOR operation)\n",
    "- ~ : NOT (performs bitwise NOT operation)\n",
    "- << : Left Shift\n",
    "- (>>) : Right Shift"
   ]
  },
  {
   "cell_type": "code",
   "execution_count": 75,
   "id": "03384c20",
   "metadata": {},
   "outputs": [
    {
     "name": "stdout",
     "output_type": "stream",
     "text": [
      "0\n",
      "14\n",
      "14\n",
      "-11\n",
      "20\n",
      "40\n",
      "5\n"
     ]
    }
   ],
   "source": [
    "x = 10 # 1010  = 1*2**3 + 0*2**2 + 1*2**1 + 0*2**0 = 8 + 0 + 2 + 0 = 10\n",
    "y = 4 #  0100\n",
    "        #0000 \n",
    "        #1110  = 2**3 + 2**2 + 2**1 + 0 = 8 + 4 + 2 = 14\n",
    "        #1110  = \n",
    "print(x & y) #0 \n",
    "print(x | y) #  14\n",
    "print(x ^ y) # 14\n",
    "print(~x) # -(10 + 1)\n",
    "print(x<<1) # 0000 1010 = 0001 0100 = 2**4 + 0+ 2**2 +0 + 0 = 16 + 4\n",
    "print(x<<2) # 0000 1010 = 0010 1000 = 2**5 +0+2**3+0+0+0 = 32 + 8 = 40\n",
    "print(x>>1) # 0000 1010 = 0000 0101 = 5"
   ]
  },
  {
   "cell_type": "code",
   "execution_count": null,
   "id": "dca4c0ea",
   "metadata": {},
   "outputs": [],
   "source": []
  },
  {
   "cell_type": "markdown",
   "id": "d737c892",
   "metadata": {},
   "source": [
    "#### 6. Membership Operators\n",
    "These operators are used to check if a value exists within a sequence (like a list, tuple, or string).\n",
    "\n",
    "- in : Returns True if the value is found in the sequence\n",
    "- not in : Returns True if the value is not found in the sequence"
   ]
  },
  {
   "cell_type": "code",
   "execution_count": 76,
   "id": "bfb8fb73",
   "metadata": {},
   "outputs": [
    {
     "data": {
      "text/plain": [
       "True"
      ]
     },
     "execution_count": 76,
     "metadata": {},
     "output_type": "execute_result"
    }
   ],
   "source": [
    "list  = [1,2,3,4,5]\n",
    "1 in list"
   ]
  },
  {
   "cell_type": "code",
   "execution_count": 78,
   "id": "6624021e",
   "metadata": {},
   "outputs": [
    {
     "data": {
      "text/plain": [
       "False"
      ]
     },
     "execution_count": 78,
     "metadata": {},
     "output_type": "execute_result"
    }
   ],
   "source": [
    "15 in list"
   ]
  },
  {
   "cell_type": "code",
   "execution_count": 79,
   "id": "1cf3adfd",
   "metadata": {},
   "outputs": [
    {
     "data": {
      "text/plain": [
       "True"
      ]
     },
     "execution_count": 79,
     "metadata": {},
     "output_type": "execute_result"
    }
   ],
   "source": [
    "15 not in list"
   ]
  },
  {
   "cell_type": "markdown",
   "id": "155973fc",
   "metadata": {},
   "source": [
    "#### 7. Identity Operators\n",
    "These operators are used to compare the memory location of two objects.\n",
    "\n",
    "- is : Returns True if two variables point to the same object in memory\n",
    "- is not : Returns True if two variables do not point to the same object"
   ]
  },
  {
   "cell_type": "code",
   "execution_count": 83,
   "id": "68984939",
   "metadata": {},
   "outputs": [
    {
     "name": "stdout",
     "output_type": "stream",
     "text": [
      "False\n",
      "True\n"
     ]
    }
   ],
   "source": [
    "x = 10\n",
    "y = 4\n",
    "print(x is y)\n",
    "print(x is not y)"
   ]
  },
  {
   "cell_type": "markdown",
   "id": "0b71df6c",
   "metadata": {},
   "source": [
    "#### 8. Ternary Conditional Operator\n",
    "The ternary operator is a shorthand for an if-else statement."
   ]
  },
  {
   "cell_type": "code",
   "execution_count": 90,
   "id": "1a9581ca",
   "metadata": {},
   "outputs": [
    {
     "name": "stdout",
     "output_type": "stream",
     "text": [
      "10\n"
     ]
    }
   ],
   "source": [
    "x  = 10\n",
    "y = 20\n",
    "\n",
    "max = x if x > y else y\n",
    "min = x if x < y else y\n",
    "print(min)"
   ]
  },
  {
   "cell_type": "code",
   "execution_count": 91,
   "id": "05529dd3",
   "metadata": {},
   "outputs": [
    {
     "name": "stdout",
     "output_type": "stream",
     "text": [
      "Enter the length: 5.5\n",
      "Enter the width: 3.2\n",
      "Area of the rectangle is:  17.6\n",
      "Perimeter is :  17.4\n"
     ]
    }
   ],
   "source": [
    "## program to calculate the area of a rectangle and perimeter \n",
    "\n",
    "length = float(input(\"Enter the length: \"))\n",
    "width = float(input(\"Enter the width: \"))\n",
    "\n",
    "area = length * width\n",
    "perimeter  = 2 * (length + width)\n",
    "\n",
    "print(\"Area of the rectangle is: \", area)\n",
    "print(\"Perimeter is : \", perimeter)"
   ]
  },
  {
   "cell_type": "code",
   "execution_count": 92,
   "id": "bf576f97",
   "metadata": {},
   "outputs": [],
   "source": [
    "### Assignments: "
   ]
  },
  {
   "cell_type": "markdown",
   "id": "5c2e736c",
   "metadata": {},
   "source": [
    "## Day 4 - #90daysDataScienceWithPython\n",
    "### Control Flow (Conditional Statements) in Python\n",
    "Allow us to execute specific blocks of code base on certain conditions. Python have the following: if, elif and else "
   ]
  },
  {
   "cell_type": "markdown",
   "id": "22327f0c",
   "metadata": {},
   "source": [
    "### 1. Basic Conditional Statements\n",
    "if Statement:\n",
    "The if statement evaluates a condition and runs the indented block of code if the condition is True."
   ]
  },
  {
   "cell_type": "code",
   "execution_count": 96,
   "id": "1d6fe9d7",
   "metadata": {},
   "outputs": [
    {
     "name": "stdout",
     "output_type": "stream",
     "text": [
      "x is greater than 5\n"
     ]
    }
   ],
   "source": [
    "x = 10\n",
    "\n",
    "if x > 5: #come \n",
    "    print(\"x is greater than 5\")\n"
   ]
  },
  {
   "cell_type": "code",
   "execution_count": 97,
   "id": "d9a916e2",
   "metadata": {},
   "outputs": [
    {
     "name": "stdout",
     "output_type": "stream",
     "text": [
      "X is greater than 5\n"
     ]
    }
   ],
   "source": [
    "if x > 5:\n",
    "    print(\"X is greater than 5\")\n",
    "else: \n",
    "    print(\"x is less than or equal to 5\")"
   ]
  },
  {
   "cell_type": "markdown",
   "id": "9f083a36",
   "metadata": {},
   "source": [
    "#### elif Statement:\n",
    "The elif (else if) statement is used when you have multiple conditions to check. It runs if the condition in the if is False and the elif condition is True."
   ]
  },
  {
   "cell_type": "code",
   "execution_count": 103,
   "id": "c9b07693",
   "metadata": {},
   "outputs": [
    {
     "name": "stdout",
     "output_type": "stream",
     "text": [
      "Enter a number: 10\n",
      "x is 10\n"
     ]
    }
   ],
   "source": [
    "x = int(input(\"Enter a number: \"))\n",
    "\n",
    "if x < 5:\n",
    "    print(\"x is less than 5\")\n",
    "elif x == 10:\n",
    "    print(\"x is 10\")\n",
    "else:\n",
    "    print(\"x is greater than 5\")\n"
   ]
  },
  {
   "cell_type": "markdown",
   "id": "4997a8f4",
   "metadata": {},
   "source": [
    "##### Nested Conditional Statements\n",
    "You can nest if, elif, and else statements to create more complex conditions."
   ]
  },
  {
   "cell_type": "code",
   "execution_count": 24,
   "id": "7393c6da",
   "metadata": {},
   "outputs": [
    {
     "name": "stdout",
     "output_type": "stream",
     "text": [
      "x is less than or equal to y\n"
     ]
    }
   ],
   "source": [
    "x = 10\n",
    "y = 20\n",
    "if x > y:\n",
    "    if x > 15:\n",
    "        print(\"x is greater than 15 and also greater than y\")\n",
    "    else:\n",
    "        print(\"x is less than or equal to 15 but greater than y\")\n",
    "else:\n",
    "    print(\"x is less than or equal to y\")\n"
   ]
  },
  {
   "cell_type": "code",
   "execution_count": 106,
   "id": "a1bc22b3",
   "metadata": {},
   "outputs": [
    {
     "name": "stdout",
     "output_type": "stream",
     "text": [
      "Enter any number-10\n",
      "num is -ve\n"
     ]
    }
   ],
   "source": [
    "num = int(input(\"Enter any number\"))\n",
    "if num > 0:\n",
    "    if(num % 2 == 0):\n",
    "        print(\"num is positive and even\")\n",
    "    else: \n",
    "        print(\"num is positive and odd\")\n",
    "else: \n",
    "    print(\"num is -ve\")"
   ]
  },
  {
   "cell_type": "markdown",
   "id": "4312bca1",
   "metadata": {},
   "source": [
    "#### Examples: \n",
    "- Write a program to check if a number is odd or even\n",
    "- Gradding system based on marks\n",
    "- check if a year is a leap year"
   ]
  },
  {
   "cell_type": "code",
   "execution_count": 31,
   "id": "7823a9a2",
   "metadata": {},
   "outputs": [
    {
     "name": "stdout",
     "output_type": "stream",
     "text": [
      "Enter a year: 2024\n",
      "The year is leap year\n"
     ]
    }
   ],
   "source": [
    "year = int(input(\"Enter a year: \"))\n",
    "\n",
    "if (year % 4 == 0 and year % 100 != 0) or (year % 400 == 0):\n",
    "    print(\"The year is leap year\")\n",
    "else:\n",
    "    print(\"The year is not a leap year\")\n"
   ]
  },
  {
   "cell_type": "markdown",
   "id": "e0411b62",
   "metadata": {},
   "source": [
    "### 5. Applications of Conditional Statements in Real Life\n",
    "Conditional statements are applied in a wide range of real-life scenarios:\n",
    "\n",
    "- E-commerce websites: Checking the availability of a product, calculating discounts based on purchase volume.\n",
    "- Weather apps: Deciding whether to display a message about rain, snow, or clear skies based on the weather condition.\n",
    "- ATM machines: Verifying whether a user has sufficient funds in their account.\n",
    "- Game development: Handling various game states, such as player health or game over conditions.\n",
    "- User authentication: Checking if the provided credentials (username and password) match the stored data for login.\n",
    "- Traffic control systems: Adjusting traffic signals based on the time of day or traffic flow.\n",
    "### 6. Assignment/Exercise\n",
    "#### Task 1: Age-based categorization\n",
    "\n",
    "Write a program that reads the age of a person and categorizes them into one of the following:\n",
    "- \"Child\" (under 12)\n",
    "- \"Teen\" (13-19)\n",
    "- \"Adult\" (20-64)\n",
    "- \"Senior\" (65 and above)\n",
    "\n",
    "#### Task 2: Check if a number is prime\n",
    "\n",
    "Write a function that takes an integer and checks if it is a prime number. A prime number is a number greater than 1 that has no divisors other than 1 and itself.\n",
    "\n",
    "#### Task 3: Calculator program\n",
    "\n",
    "Create a simple calculator that takes two numbers and an operator (+, -, *, /) and performs the corresponding operation. Make sure to handle division by zero errors.\n",
    "#### Task 4: Traffic Light Simulation\n",
    "\n",
    "Write a Python program that simulates the behavior of a traffic light using conditional statements. The program should print out messages such as \"Stop\", \"Ready\", and \"Go\" based on a variable representing the current light color."
   ]
  },
  {
   "cell_type": "markdown",
   "id": "0233a8e5",
   "metadata": {},
   "source": [
    "## Day 5 -  #90daysDataScienceWithPython\n",
    "#### Topic: Loops in Python\n",
    "Loops are fundamental programming constructs used to repeatedly execute a block of code. They allow you to automate repetitive taks and manage large datasets efficiently: 2 types exist\n",
    "- for loop : iterates over a sequence - list, string, range\n",
    "- while loop: repeat a block of code as long as a geiven condition is True\n",
    "\n",
    "#### for loop\n"
   ]
  },
  {
   "cell_type": "markdown",
   "id": "8ea18067",
   "metadata": {},
   "source": [
    "# for loop \n",
    "for variable in iterable:\n",
    "   #code here"
   ]
  },
  {
   "cell_type": "code",
   "execution_count": 2,
   "id": "2459d285",
   "metadata": {},
   "outputs": [
    {
     "name": "stdout",
     "output_type": "stream",
     "text": [
      "1\n",
      "2\n",
      "3\n",
      "4\n",
      "5\n",
      "6\n",
      "7\n",
      "8\n"
     ]
    }
   ],
   "source": [
    "list = [1,2,3,4,5,6,7,8]\n",
    "for i in list:\n",
    "    print(i)"
   ]
  },
  {
   "cell_type": "code",
   "execution_count": 3,
   "id": "76fbd0f8",
   "metadata": {},
   "outputs": [
    {
     "name": "stdout",
     "output_type": "stream",
     "text": [
      "constantine\n",
      "Max\n",
      "Jane\n",
      "Joule\n"
     ]
    }
   ],
   "source": [
    "names = (\"constantine\", \"Max\", \"Jane\", \"Joule\")\n",
    "for n in names:\n",
    "    print(n)"
   ]
  },
  {
   "cell_type": "code",
   "execution_count": 4,
   "id": "cf349c2c",
   "metadata": {},
   "outputs": [
    {
     "name": "stdout",
     "output_type": "stream",
     "text": [
      "0\n",
      "1\n",
      "2\n",
      "3\n",
      "4\n",
      "5\n",
      "6\n",
      "7\n",
      "8\n",
      "9\n"
     ]
    }
   ],
   "source": [
    "for i in range(10): #range(start, stop, step)\n",
    "    print(i) "
   ]
  },
  {
   "cell_type": "code",
   "execution_count": 5,
   "id": "9406a54d",
   "metadata": {},
   "outputs": [
    {
     "name": "stdout",
     "output_type": "stream",
     "text": [
      "2\n",
      "7\n",
      "12\n",
      "17\n",
      "22\n",
      "27\n",
      "32\n",
      "37\n",
      "42\n",
      "47\n"
     ]
    }
   ],
   "source": [
    "for i in range(2,50,5):\n",
    "    print(i)"
   ]
  },
  {
   "cell_type": "markdown",
   "id": "bf7ec20c",
   "metadata": {},
   "source": [
    "#### while loop\n",
    " while condition:\n",
    "     #code here"
   ]
  },
  {
   "cell_type": "code",
   "execution_count": 7,
   "id": "28943d5b",
   "metadata": {},
   "outputs": [
    {
     "name": "stdout",
     "output_type": "stream",
     "text": [
      "0\n",
      "1\n",
      "2\n",
      "3\n",
      "4\n"
     ]
    }
   ],
   "source": [
    "count = 0\n",
    "while count < 5:\n",
    "    print(count)\n",
    "    count +=1 #count  = count + 1"
   ]
  },
  {
   "cell_type": "markdown",
   "id": "850a07a2",
   "metadata": {},
   "source": [
    "### control statement in loop\n",
    "- break : premature\n",
    "- continue: go to next\n",
    "- else: print we loop finsehed"
   ]
  },
  {
   "cell_type": "code",
   "execution_count": 9,
   "id": "ba39a2b1",
   "metadata": {},
   "outputs": [
    {
     "name": "stdout",
     "output_type": "stream",
     "text": [
      "0\n",
      "1\n",
      "2\n"
     ]
    }
   ],
   "source": [
    "for i in range(5):\n",
    "    if i == 3:\n",
    "        break\n",
    "    print(i)"
   ]
  },
  {
   "cell_type": "code",
   "execution_count": 11,
   "id": "5c46a072",
   "metadata": {},
   "outputs": [
    {
     "name": "stdout",
     "output_type": "stream",
     "text": [
      "0\n",
      "1\n",
      "2\n",
      "4\n",
      "5\n",
      "6\n",
      "7\n",
      "8\n",
      "9\n"
     ]
    }
   ],
   "source": [
    "for i in range(10):\n",
    "    if i == 3:\n",
    "        continue\n",
    "    print(i)"
   ]
  },
  {
   "cell_type": "code",
   "execution_count": 12,
   "id": "8f3fd7fd",
   "metadata": {},
   "outputs": [
    {
     "name": "stdout",
     "output_type": "stream",
     "text": [
      "0\n",
      "1\n",
      "2\n",
      "3\n",
      "4\n",
      "lood finished\n"
     ]
    }
   ],
   "source": [
    "for i in range(5):\n",
    "    print(i)\n",
    "else:\n",
    "    print(\"lood finished\")"
   ]
  },
  {
   "cell_type": "code",
   "execution_count": 14,
   "id": "edd0e28b",
   "metadata": {},
   "outputs": [
    {
     "name": "stdout",
     "output_type": "stream",
     "text": [
      "The sum is:  19\n"
     ]
    }
   ],
   "source": [
    "# sum number\n",
    "list = [1,3,4,5,6]\n",
    "sum = 0\n",
    "for i in list:\n",
    "    sum += i\n",
    "print(\"The sum is: \", sum)"
   ]
  },
  {
   "cell_type": "code",
   "execution_count": 15,
   "id": "d153c782",
   "metadata": {},
   "outputs": [
    {
     "name": "stdout",
     "output_type": "stream",
     "text": [
      "0\n",
      "2\n",
      "4\n",
      "6\n",
      "8\n",
      "10\n",
      "12\n",
      "14\n",
      "16\n",
      "18\n",
      "20\n",
      "22\n",
      "24\n",
      "26\n",
      "28\n",
      "30\n",
      "32\n",
      "34\n",
      "36\n",
      "38\n",
      "40\n",
      "42\n",
      "44\n",
      "46\n",
      "48\n",
      "50\n",
      "52\n",
      "54\n",
      "56\n",
      "58\n",
      "60\n",
      "62\n",
      "64\n",
      "66\n",
      "68\n",
      "70\n",
      "72\n",
      "74\n",
      "76\n",
      "78\n",
      "80\n",
      "82\n",
      "84\n",
      "86\n",
      "88\n",
      "90\n",
      "92\n",
      "94\n",
      "96\n",
      "98\n"
     ]
    }
   ],
   "source": [
    "## print even numbers from 0 - 100\n",
    "for i in range(100):\n",
    "    if i % 2 == 0:\n",
    "        print(i)"
   ]
  },
  {
   "cell_type": "markdown",
   "id": "6cc10298",
   "metadata": {},
   "source": [
    "## Day 6 -  #90daysDataScienceWithPython\n",
    "#### Topic: Functions in Python\n",
    "A function is a block of reusable code designed to perform a specific task. Allow you to break down your code into smaller, manageable pieces, making it more readable and reusable\n"
   ]
  },
  {
   "cell_type": "markdown",
   "id": "783c3ca4",
   "metadata": {},
   "source": [
    "def functionName(parameters) :\n",
    "    #code sum =  a+ b\n",
    "    return sum\n",
    "functionName()"
   ]
  },
  {
   "cell_type": "code",
   "execution_count": 16,
   "id": "2918ed64",
   "metadata": {},
   "outputs": [],
   "source": [
    "def sayHello():\n",
    "    print(\"Welcome to functions in python\")"
   ]
  },
  {
   "cell_type": "code",
   "execution_count": 17,
   "id": "750e8c38",
   "metadata": {},
   "outputs": [
    {
     "name": "stdout",
     "output_type": "stream",
     "text": [
      "Welcome to functions in python\n"
     ]
    }
   ],
   "source": [
    "sayHello()"
   ]
  },
  {
   "cell_type": "code",
   "execution_count": 20,
   "id": "40be3422",
   "metadata": {},
   "outputs": [],
   "source": [
    "def sum(a, b):\n",
    "    result = a + b\n",
    "    print(\"The sum is : \", result)"
   ]
  },
  {
   "cell_type": "code",
   "execution_count": 21,
   "id": "ded1634e",
   "metadata": {},
   "outputs": [
    {
     "name": "stdout",
     "output_type": "stream",
     "text": [
      "The sum is :  30\n"
     ]
    }
   ],
   "source": [
    "sum(10,20)"
   ]
  },
  {
   "cell_type": "code",
   "execution_count": 22,
   "id": "d2235438",
   "metadata": {},
   "outputs": [
    {
     "data": {
      "text/plain": [
       "10"
      ]
     },
     "execution_count": 22,
     "metadata": {},
     "output_type": "execute_result"
    }
   ],
   "source": [
    "def pdt(x,y):\n",
    "    return x * y;\n",
    "\n",
    "pdt(2,5)"
   ]
  },
  {
   "cell_type": "code",
   "execution_count": 30,
   "id": "ae4069b9",
   "metadata": {},
   "outputs": [
    {
     "name": "stdout",
     "output_type": "stream",
     "text": [
      "Hello Jane you are 20 years old\n"
     ]
    }
   ],
   "source": [
    "def greeting(age, name=\"Maxwel\"):\n",
    "    print(f\"Hello {name} you are {age} years old\")\n",
    "greeting(20, \"Jane\")"
   ]
  },
  {
   "cell_type": "markdown",
   "id": "02fd95e3",
   "metadata": {},
   "source": [
    "### Task 1: Build a Number Guessing Game in Python\n",
    "    - Your program generate a random number and the play has to gues the number correctly.\n",
    "    "
   ]
  },
  {
   "cell_type": "markdown",
   "id": "edf60f0b",
   "metadata": {},
   "source": [
    "#### Solution: Python Number Guessing Game:\n",
    "- we will use fucntions to structure our game for better code organization\n",
    "- use ran number generator  - rand()\n",
    "- use loops to run the program continuously\n",
    "- use conditional statement to provide feedbacks \n",
    "- handle wrong inputs \n",
    "-----------------------\n",
    "Game flow:\n",
    "- we randomly generate a number between 1  and 100\n",
    "- asked the use to guess the number\n",
    "- if the number is too low we indicate, too high we indicate \n",
    "- we continue till use guess the correct answer\n"
   ]
  },
  {
   "cell_type": "code",
   "execution_count": 1,
   "id": "77db032c",
   "metadata": {},
   "outputs": [
    {
     "name": "stdout",
     "output_type": "stream",
     "text": [
      "Welcome to the Number Guessing Game!\n",
      "I am thinking of a number between 1 and 100.\n",
      "Enter your guess (between 1 and 100): 45\n",
      "Too high! Try again.\n",
      "Enter your guess (between 1 and 100): 35\n",
      "Too high! Try again.\n",
      "Enter your guess (between 1 and 100): 20\n",
      "Too low! Try again.\n",
      "Enter your guess (between 1 and 100): 25\n",
      "Too high! Try again.\n",
      "Enter your guess (between 1 and 100): 3\n",
      "Too low! Try again.\n",
      "Enter your guess (between 1 and 100): 21\n",
      "Too low! Try again.\n",
      "Enter your guess (between 1 and 100): 24\n",
      "Too high! Try again.\n",
      "Enter your guess (between 1 and 100): 23\n",
      "Too high! Try again.\n",
      "Enter your guess (between 1 and 100): 22\n",
      "Congratulations! You've guessed the number 22 correctly in 9 attempts.\n"
     ]
    }
   ],
   "source": [
    "import random\n",
    "\n",
    "# Function to generate a random number\n",
    "def generate_number():\n",
    "    return random.randint(1, 100)\n",
    "\n",
    "# Function to get the player's guess\n",
    "def get_guess():\n",
    "    while True:\n",
    "        try:\n",
    "            guess = int(input(\"Enter your guess (between 1 and 100): \"))\n",
    "            if 1 <= guess <= 100:\n",
    "                return guess\n",
    "            else:\n",
    "                print(\"Please enter a number between 1 and 100.\")\n",
    "        except ValueError:\n",
    "            print(\"Invalid input! Please enter a number.\")\n",
    "\n",
    "# Function to play the guessing game\n",
    "def play_game():\n",
    "    print(\"Welcome to the Number Guessing Game!\")\n",
    "    print(\"I am thinking of a number between 1 and 100.\")\n",
    "    \n",
    "    number_to_guess = generate_number()\n",
    "    attempts = 0\n",
    "    \n",
    "    while True:\n",
    "        attempts += 1\n",
    "        guess = get_guess()\n",
    "        \n",
    "        if guess < number_to_guess:\n",
    "            print(\"Too low! Try again.\")\n",
    "        elif guess > number_to_guess:\n",
    "            print(\"Too high! Try again.\")\n",
    "        else:\n",
    "            print(f\"Congratulations! You've guessed the number {number_to_guess} correctly in {attempts} attempts.\")\n",
    "            break\n",
    "\n",
    "# Start the game\n",
    "if __name__ == \"__main__\":\n",
    "    play_game()\n"
   ]
  },
  {
   "cell_type": "code",
   "execution_count": null,
   "id": "57210649",
   "metadata": {},
   "outputs": [],
   "source": []
  },
  {
   "cell_type": "code",
   "execution_count": null,
   "id": "ca4bc0d0",
   "metadata": {},
   "outputs": [],
   "source": []
  }
 ],
 "metadata": {
  "kernelspec": {
   "display_name": "Python 3 (ipykernel)",
   "language": "python",
   "name": "python3"
  },
  "language_info": {
   "codemirror_mode": {
    "name": "ipython",
    "version": 3
   },
   "file_extension": ".py",
   "mimetype": "text/x-python",
   "name": "python",
   "nbconvert_exporter": "python",
   "pygments_lexer": "ipython3",
   "version": "3.9.13"
  }
 },
 "nbformat": 4,
 "nbformat_minor": 5
}
