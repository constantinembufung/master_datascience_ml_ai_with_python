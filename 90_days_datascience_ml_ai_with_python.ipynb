{
 "cells": [
  {
   "cell_type": "markdown",
   "id": "073ff566",
   "metadata": {},
   "source": [
    "# MASTER DATA SCIENCE, MACHINE LEARNING, and AI with PYTHON in 90 days\n",
    "\n",
    "#### Join the hashtag on x #90daysDataScienceWithPython"
   ]
  },
  {
   "cell_type": "markdown",
   "id": "8f36f3a7",
   "metadata": {},
   "source": [
    "## Day 1 - #90daysDataScienceWithPython\n",
    "Topic: Installing Python\n",
    "1. Download python from www.python.org/downloads\n",
    "2. Install pip\n",
    "3. Install anaconda - Jupyter Notebook or any other IDE "
   ]
  },
  {
   "cell_type": "markdown",
   "id": "a02da03c",
   "metadata": {},
   "source": [
    "## Day 2 - #90daysDataScienceWithPython Variables\n",
    "### Variables are used to store data values.\n",
    "\n",
    "### 1. Defining and Assigning Variables\n",
    "A variable in Python is created by assigning a value to it. Python is dynamically typed, meaning that you don’t need to declare a variable type explicitly."
   ]
  },
  {
   "cell_type": "code",
   "execution_count": 4,
   "id": "4c5d3b4d",
   "metadata": {},
   "outputs": [
    {
     "data": {
      "text/plain": [
       "(10, 'Alice', 5.7, True, int, str, float, bool)"
      ]
     },
     "execution_count": 4,
     "metadata": {},
     "output_type": "execute_result"
    }
   ],
   "source": [
    "#assigning values to variables\n",
    "x = 10 # intger\n",
    "name = \"Alice\" #string\n",
    "height = 5.7 #float\n",
    "is_active = True #boolean\n",
    "\n",
    "x, name, height, is_active, type(x) ,type(name), type(height), type(is_active)"
   ]
  },
  {
   "cell_type": "markdown",
   "id": "92139d5f",
   "metadata": {},
   "source": [
    "## 2. Naming Variables\n",
    "- Can contain letters (a-z, A-Z), digits (0-9), and underscores (_).\n",
    "- Cannot start with a digit (e.g., 2variable is invalid).\n",
    "- Cannot be a reserved keyword (e.g., class, try, if).\n",
    "- Variable names are case-sensitive (e.g., age and Age are different)."
   ]
  },
  {
   "cell_type": "code",
   "execution_count": 5,
   "id": "9fa33579",
   "metadata": {},
   "outputs": [
    {
     "ename": "SyntaxError",
     "evalue": "invalid syntax (2446819636.py, line 7)",
     "output_type": "error",
     "traceback": [
      "\u001b[1;36m  File \u001b[1;32m\"C:\\Users\\PC\\AppData\\Local\\Temp\\ipykernel_10684\\2446819636.py\"\u001b[1;36m, line \u001b[1;32m7\u001b[0m\n\u001b[1;33m    1age = 30 #names cannot start with a number\u001b[0m\n\u001b[1;37m     ^\u001b[0m\n\u001b[1;31mSyntaxError\u001b[0m\u001b[1;31m:\u001b[0m invalid syntax\n"
     ]
    }
   ],
   "source": [
    "#valid variable names \n",
    "age = 25 \n",
    "name = \"John\"\n",
    "_isValue = True\n",
    "\n",
    "#invalid variable names\n",
    "1age = 30 #names cannot start with a number\n"
   ]
  },
  {
   "cell_type": "markdown",
   "id": "2fd33df4",
   "metadata": {},
   "source": [
    "### 3. Data Types of Variables\n",
    "Python variables can hold different types of data. Here are some common types:\n",
    "\n",
    "- Integer: Whole numbers, e.g., x = 10.\n",
    "- Float: Decimal numbers, e.g., y = 3.14.\n",
    "- String: Text, e.g., greeting = \"Hello\".\n",
    "- Boolean: True or False values, e.g., is_valid = True.\n",
    "- List: A collection of items, e.g., numbers = [1, 2, 3].\n",
    "- Tuple: An immutable collection of items, e.g., coordinates = (1, 2).\n",
    "- Dictionary: A collection of key-value pairs, e.g., person = {\"name\": \"Alice\", \"age\": 30}."
   ]
  },
  {
   "cell_type": "markdown",
   "id": "da6a57bf",
   "metadata": {},
   "source": [
    "### 4. Reassigning Values\n",
    "You can reassign a value to an existing variable. Since Python is dynamically typed, the type of the variable can also change."
   ]
  },
  {
   "cell_type": "code",
   "execution_count": 7,
   "id": "9bdebf35",
   "metadata": {},
   "outputs": [],
   "source": [
    "x = 10        # Integer\n",
    "x = \"Hello\"   # Now x is a string\n",
    "x = [1, 2, 3] # Now x is a list\n"
   ]
  },
  {
   "cell_type": "markdown",
   "id": "2cee3a97",
   "metadata": {},
   "source": [
    "### 5. Multiple Assignments\n",
    "Python allows you to assign values to multiple variables in a single line."
   ]
  },
  {
   "cell_type": "code",
   "execution_count": 9,
   "id": "a83a6981",
   "metadata": {},
   "outputs": [
    {
     "name": "stdout",
     "output_type": "stream",
     "text": [
      "1\n",
      "2.5\n",
      "Hello\n"
     ]
    }
   ],
   "source": [
    "a, b, c = 1, 2.5, \"Hello\"\n",
    "print(a)  # 1\n",
    "print(b)  # 2.5\n",
    "print(c)  # \"Hello\"\n"
   ]
  },
  {
   "cell_type": "code",
   "execution_count": 10,
   "id": "dfba1a71",
   "metadata": {},
   "outputs": [
    {
     "name": "stdout",
     "output_type": "stream",
     "text": [
      "100 100 100\n"
     ]
    }
   ],
   "source": [
    "x = y = z = 100\n",
    "print(x, y, z)  # 100 100 100\n"
   ]
  },
  {
   "cell_type": "markdown",
   "id": "28d8d471",
   "metadata": {},
   "source": [
    "### 6. Type Checking and Conversion\n",
    "You can check the type of a variable using the type() function."
   ]
  },
  {
   "cell_type": "code",
   "execution_count": 11,
   "id": "3876a8f7",
   "metadata": {},
   "outputs": [
    {
     "name": "stdout",
     "output_type": "stream",
     "text": [
      "<class 'int'>\n",
      "<class 'float'>\n"
     ]
    }
   ],
   "source": [
    "a = 10\n",
    "print(type(a))  # <class 'int'>\n",
    "\n",
    "b = 3.14\n",
    "print(type(b))  # <class 'float'>\n"
   ]
  },
  {
   "cell_type": "code",
   "execution_count": 12,
   "id": "e6bf6f0e",
   "metadata": {},
   "outputs": [
    {
     "name": "stdout",
     "output_type": "stream",
     "text": [
      "10.0\n",
      "10\n"
     ]
    }
   ],
   "source": [
    "a = 10  # Integer\n",
    "b = float(a)  # Convert to float\n",
    "print(b)  # 10.0\n",
    "\n",
    "c = str(a)  # Convert to string\n",
    "print(c)  # \"10\"\n"
   ]
  },
  {
   "cell_type": "markdown",
   "id": "a95c77f8",
   "metadata": {},
   "source": [
    "### 7. Global vs Local Variables\n",
    "- Local variables: Variables that are defined inside a function and can only be used within that function.\n",
    "- Global variables: Variables that are defined outside of all functions and can be accessed anywhere in the script."
   ]
  },
  {
   "cell_type": "code",
   "execution_count": 13,
   "id": "5ba4de66",
   "metadata": {},
   "outputs": [
    {
     "name": "stdout",
     "output_type": "stream",
     "text": [
      "5\n",
      "10\n"
     ]
    }
   ],
   "source": [
    "# Global variable\n",
    "x = 5\n",
    "\n",
    "def my_function():\n",
    "    # Local variable\n",
    "    y = 10\n",
    "    print(x)  # Can access global variable\n",
    "    print(y)  # Can access local variable\n",
    "\n",
    "my_function()\n",
    "# print(y)  # Error: y is not defined outside the function\n"
   ]
  },
  {
   "cell_type": "markdown",
   "id": "2eafe010",
   "metadata": {},
   "source": [
    "### 8. Constants in Python\n",
    "Python does not have built-in constant variables, but you can use all-uppercase names to indicate constants (this is a convention, not a rule)."
   ]
  },
  {
   "cell_type": "code",
   "execution_count": 14,
   "id": "e819e879",
   "metadata": {},
   "outputs": [],
   "source": [
    "PI = 3.14159  # Constant\n",
    "MAX_USERS = 1000  # Constant\n"
   ]
  },
  {
   "cell_type": "markdown",
   "id": "b9e20648",
   "metadata": {},
   "source": [
    "### 9. Unpacking Variables\n",
    "You can unpack values from data structures like lists or tuples into variables."
   ]
  },
  {
   "cell_type": "code",
   "execution_count": 3,
   "id": "1b114518",
   "metadata": {},
   "outputs": [
    {
     "name": "stdout",
     "output_type": "stream",
     "text": [
      "1 2 3\n",
      "Alice 30\n"
     ]
    }
   ],
   "source": [
    "# Unpacking a list into variables\n",
    "data = [1, 2, 3]\n",
    "a, b, c = data\n",
    "print(a, b, c)  # 1 2 3\n",
    "\n",
    "# Unpacking a tuple\n",
    "person = (\"Alice\", 30)\n",
    "name, age = person\n",
    "print(name, age)  # Alice 30"
   ]
  },
  {
   "cell_type": "markdown",
   "id": "b2ea5a8b",
   "metadata": {},
   "source": [
    "## Day 3 - #90daysDataScienceWithPython  - Python Operators\n",
    "\n",
    "Operators are symbols or keywords that perform operations on variables and values. use to manipulate data and perform computations. \n",
    "\n",
    "#### 1. Arithmetic Operators \n",
    " - Addition(+)\n",
    " - Subtraction(-)\n",
    " - Multiplication(*)\n",
    " - Division (/ returns a float)\n",
    " - Floor Division (//) (returns the quotient, rounded down to the nearest integer)\n",
    " - Modulus(%) (returns the remainder of a division)\n",
    " - Exponentiation(**) (raises the left operand to the power of the right operand)\n"
   ]
  },
  {
   "cell_type": "markdown",
   "id": "57643e75",
   "metadata": {},
   "source": [
    "#### 2. Comparison (Relational) Operators (==, !=, >,>=,<, <=)\n",
    " - : Equal to (==)\n",
    " -  Not equal to  (!=)\n",
    " - Greater than (>)\n",
    " - Less than (<)\n",
    " - Greater than or equal to (>=)\n",
    " - Less than or equal to (<=)"
   ]
  },
  {
   "cell_type": "markdown",
   "id": "fc3db9d3",
   "metadata": {},
   "source": [
    "\n",
    "#### 3. Logical Operators ( and, or and not) \n",
    "- and : Returns True if both conditions are true\n",
    "- or : Returns True if at least one of the conditions is true\n",
    "- not ; Reverses the Boolean value\n"
   ]
  },
  {
   "cell_type": "markdown",
   "id": "fd366ba2",
   "metadata": {},
   "source": [
    "#### 4. Assignment Operators\n",
    "- simple assigment (=)\n",
    "- += add and assign\n",
    "- -= substrat and assign\n",
    "- *= multiply and assign\n",
    "- /= divide and assign\n",
    "- //= floor divide and assign\n",
    "- %= modulus and assign\n",
    "- **= exponentiation and assign\n"
   ]
  },
  {
   "cell_type": "markdown",
   "id": "0d6ba34b",
   "metadata": {},
   "source": [
    "#### 5. Bitwise Operators\n",
    "These operators work with binary values (bits) of integers.\n",
    "\n",
    "- & : AND (performs bitwise AND operation)\n",
    "- | : OR (performs bitwise OR operation)\n",
    "- ^ : XOR (performs bitwise XOR operation)\n",
    "- ~ : NOT (performs bitwise NOT operation)\n",
    "- << : Left Shift\n",
    "- (>>) : Right Shift"
   ]
  },
  {
   "cell_type": "markdown",
   "id": "d737c892",
   "metadata": {},
   "source": [
    "#### 6. Membership Operators\n",
    "These operators are used to check if a value exists within a sequence (like a list, tuple, or string).\n",
    "\n",
    "- in : Returns True if the value is found in the sequence\n",
    "- not in : Returns True if the value is not found in the sequence"
   ]
  },
  {
   "cell_type": "markdown",
   "id": "155973fc",
   "metadata": {},
   "source": [
    "#### 7. Identity Operators\n",
    "These operators are used to compare the memory location of two objects.\n",
    "\n",
    "- is : Returns True if two variables point to the same object in memory\n",
    "- is not : Returns True if two variables do not point to the same object"
   ]
  },
  {
   "cell_type": "markdown",
   "id": "0b71df6c",
   "metadata": {},
   "source": [
    "#### 8. Ternary Conditional Operator\n",
    "The ternary operator is a shorthand for an if-else statement."
   ]
  },
  {
   "cell_type": "code",
   "execution_count": 5,
   "id": "1a9581ca",
   "metadata": {},
   "outputs": [
    {
     "data": {
      "text/plain": [
       "20"
      ]
     },
     "execution_count": 5,
     "metadata": {},
     "output_type": "execute_result"
    }
   ],
   "source": [
    "x  = 10\n",
    "y = 20\n",
    "\n",
    "max = x if x > y else y\n",
    "max"
   ]
  },
  {
   "cell_type": "code",
   "execution_count": 10,
   "id": "05529dd3",
   "metadata": {},
   "outputs": [
    {
     "name": "stdout",
     "output_type": "stream",
     "text": [
      "Enter the length: 5.5\n",
      "Enter the width: 3.2\n",
      "Area os the rectangle is:  17.6\n",
      "Perimeter is :  17.4\n"
     ]
    }
   ],
   "source": [
    "## program to calculate the area of a rectangle and perimeter \n",
    "\n",
    "length = float(input(\"Enter the length: \"))\n",
    "width = float(input(\"Enter the width: \"))\n",
    "\n",
    "area = length * width\n",
    "perimeter  = 2 * (length + width)\n",
    "\n",
    "Area, perimeter\n",
    "print(\"Area os the rectangle is: \", area)\n",
    "print(\"Perimeter is : \", perimeter)"
   ]
  },
  {
   "cell_type": "code",
   "execution_count": 11,
   "id": "bf576f97",
   "metadata": {},
   "outputs": [],
   "source": [
    "### Assignments: "
   ]
  },
  {
   "cell_type": "markdown",
   "id": "5c2e736c",
   "metadata": {},
   "source": [
    "## Day 4 - #90daysDataScienceWithPython\n",
    "### Control Flow (Conditional Statements) in Python\n",
    "Allow us to execute specific blocks of code base on certain conditions. Python have the following: if, elif and else "
   ]
  },
  {
   "cell_type": "markdown",
   "id": "22327f0c",
   "metadata": {},
   "source": [
    "### 1. Basic Conditional Statements\n",
    "if Statement:\n",
    "The if statement evaluates a condition and runs the indented block of code if the condition is True."
   ]
  },
  {
   "cell_type": "code",
   "execution_count": 21,
   "id": "1d6fe9d7",
   "metadata": {},
   "outputs": [
    {
     "name": "stdout",
     "output_type": "stream",
     "text": [
      "x is greater than 5\n"
     ]
    }
   ],
   "source": [
    "x = 10\n",
    "\n",
    "if x > 5:\n",
    "    print(\"x is greater than 5\")"
   ]
  },
  {
   "cell_type": "code",
   "execution_count": 22,
   "id": "d9a916e2",
   "metadata": {},
   "outputs": [
    {
     "name": "stdout",
     "output_type": "stream",
     "text": [
      "X is greater than 5\n"
     ]
    }
   ],
   "source": [
    "if x > 5:\n",
    "    print(\"X is greater than 5\")\n",
    "else: \n",
    "    print(\"x is less than or equal to 5\")"
   ]
  },
  {
   "cell_type": "markdown",
   "id": "9f083a36",
   "metadata": {},
   "source": [
    "#### elif Statement:\n",
    "The elif (else if) statement is used when you have multiple conditions to check. It runs if the condition in the if is False and the elif condition is True."
   ]
  },
  {
   "cell_type": "code",
   "execution_count": 23,
   "id": "c9b07693",
   "metadata": {},
   "outputs": [
    {
     "name": "stdout",
     "output_type": "stream",
     "text": [
      "x is 10\n"
     ]
    }
   ],
   "source": [
    "x = 10\n",
    "if x < 5:\n",
    "    print(\"x is less than 5\")\n",
    "elif x == 10:\n",
    "    print(\"x is 10\")\n",
    "else:\n",
    "    print(\"x is greater than 5\")\n"
   ]
  },
  {
   "cell_type": "markdown",
   "id": "4997a8f4",
   "metadata": {},
   "source": [
    "##### Nested Conditional Statements\n",
    "You can nest if, elif, and else statements to create more complex conditions."
   ]
  },
  {
   "cell_type": "code",
   "execution_count": 24,
   "id": "7393c6da",
   "metadata": {},
   "outputs": [
    {
     "name": "stdout",
     "output_type": "stream",
     "text": [
      "x is less than or equal to y\n"
     ]
    }
   ],
   "source": [
    "x = 10\n",
    "y = 20\n",
    "if x > y:\n",
    "    if x > 15:\n",
    "        print(\"x is greater than 15 and also greater than y\")\n",
    "    else:\n",
    "        print(\"x is less than or equal to 15 but greater than y\")\n",
    "else:\n",
    "    print(\"x is less than or equal to y\")\n"
   ]
  },
  {
   "cell_type": "markdown",
   "id": "4312bca1",
   "metadata": {},
   "source": [
    "#### Examples: \n",
    "- Write a program to check if a number is odd or even\n",
    "- Gradding system based on marks\n",
    "- check if a year is a leap year"
   ]
  },
  {
   "cell_type": "code",
   "execution_count": null,
   "id": "7823a9a2",
   "metadata": {},
   "outputs": [],
   "source": [
    "year = int(input(\"Enter a year: \"))\n",
    "\n",
    "if (year % 4 == 0 and year % 100 != 0) or (year % 400 == 0):\n",
    "    print(\"The year is leap year\")\n",
    "else:\n",
    "    print(\"The year is not a leap year\")\n"
   ]
  },
  {
   "cell_type": "markdown",
   "id": "e0411b62",
   "metadata": {},
   "source": [
    "### 5. Applications of Conditional Statements in Real Life\n",
    "Conditional statements are applied in a wide range of real-life scenarios:\n",
    "\n",
    "- E-commerce websites: Checking the availability of a product, calculating discounts based on purchase volume.\n",
    "- Weather apps: Deciding whether to display a message about rain, snow, or clear skies based on the weather condition.\n",
    "- ATM machines: Verifying whether a user has sufficient funds in their account.\n",
    "- Game development: Handling various game states, such as player health or game over conditions.\n",
    "- User authentication: Checking if the provided credentials (username and password) match the stored data for login.\n",
    "- Traffic control systems: Adjusting traffic signals based on the time of day or traffic flow.\n",
    "### 6. Assignment/Exercise\n",
    "#### Task 1: Age-based categorization\n",
    "\n",
    "Write a program that reads the age of a person and categorizes them into one of the following:\n",
    "- \"Child\" (under 12)\n",
    "- \"Teen\" (13-19)\n",
    "- \"Adult\" (20-64)\n",
    "- \"Senior\" (65 and above)\n",
    "\n",
    "#### Task 2: Check if a number is prime\n",
    "\n",
    "Write a function that takes an integer and checks if it is a prime number. A prime number is a number greater than 1 that has no divisors other than 1 and itself.\n",
    "\n",
    "#### Task 3: Calculator program\n",
    "\n",
    "Create a simple calculator that takes two numbers and an operator (+, -, *, /) and performs the corresponding operation. Make sure to handle division by zero errors.\n",
    "#### Task 4: Traffic Light Simulation\n",
    "\n",
    "Write a Python program that simulates the behavior of a traffic light using conditional statements. The program should print out messages such as \"Stop\", \"Ready\", and \"Go\" based on a variable representing the current light color."
   ]
  },
  {
   "cell_type": "code",
   "execution_count": null,
   "id": "58efc862",
   "metadata": {},
   "outputs": [],
   "source": []
  },
  {
   "cell_type": "code",
   "execution_count": null,
   "id": "09bf60ad",
   "metadata": {},
   "outputs": [],
   "source": []
  },
  {
   "cell_type": "code",
   "execution_count": null,
   "id": "b73bfe8d",
   "metadata": {},
   "outputs": [],
   "source": []
  },
  {
   "cell_type": "code",
   "execution_count": null,
   "id": "930ab98d",
   "metadata": {},
   "outputs": [],
   "source": []
  },
  {
   "cell_type": "code",
   "execution_count": null,
   "id": "28943d5b",
   "metadata": {},
   "outputs": [],
   "source": []
  },
  {
   "cell_type": "code",
   "execution_count": null,
   "id": "b22bce1a",
   "metadata": {},
   "outputs": [],
   "source": []
  }
 ],
 "metadata": {
  "kernelspec": {
   "display_name": "Python 3 (ipykernel)",
   "language": "python",
   "name": "python3"
  },
  "language_info": {
   "codemirror_mode": {
    "name": "ipython",
    "version": 3
   },
   "file_extension": ".py",
   "mimetype": "text/x-python",
   "name": "python",
   "nbconvert_exporter": "python",
   "pygments_lexer": "ipython3",
   "version": "3.9.13"
  }
 },
 "nbformat": 4,
 "nbformat_minor": 5
}
