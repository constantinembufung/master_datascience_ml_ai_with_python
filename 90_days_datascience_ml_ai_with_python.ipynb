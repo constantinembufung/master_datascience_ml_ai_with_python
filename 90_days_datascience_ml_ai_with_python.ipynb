{
 "cells": [
  {
   "cell_type": "markdown",
   "id": "a02da03c",
   "metadata": {},
   "source": [
    "## Day 2 - #90daysDataScienceWithPython Variables\n",
    "Variables are used to store data values.\n",
    "\n",
    "### 1. Defining and Assigning Variables\n",
    "A variable in Python is created by assigning a value to it. Python is dynamically typed, meaning that you don’t need to declare a variable type explicitly."
   ]
  },
  {
   "cell_type": "code",
   "execution_count": 4,
   "id": "4c5d3b4d",
   "metadata": {},
   "outputs": [
    {
     "data": {
      "text/plain": [
       "(10, 'Alice', 5.7, True, int, str, float, bool)"
      ]
     },
     "execution_count": 4,
     "metadata": {},
     "output_type": "execute_result"
    }
   ],
   "source": [
    "#assigning values to variables\n",
    "x = 10 # intger\n",
    "name = \"Alice\" #string\n",
    "height = 5.7 #float\n",
    "is_active = True #boolean\n",
    "\n",
    "x, name, height, is_active, type(x) ,type(name), type(height), type(is_active)"
   ]
  },
  {
   "cell_type": "markdown",
   "id": "92139d5f",
   "metadata": {},
   "source": [
    "## 2. Naming Variables\n",
    "- Can contain letters (a-z, A-Z), digits (0-9), and underscores (_).\n",
    "- Cannot start with a digit (e.g., 2variable is invalid).\n",
    "- Cannot be a reserved keyword (e.g., class, try, if).\n",
    "- Variable names are case-sensitive (e.g., age and Age are different)."
   ]
  },
  {
   "cell_type": "code",
   "execution_count": 5,
   "id": "9fa33579",
   "metadata": {},
   "outputs": [
    {
     "ename": "SyntaxError",
     "evalue": "invalid syntax (2446819636.py, line 7)",
     "output_type": "error",
     "traceback": [
      "\u001b[1;36m  File \u001b[1;32m\"C:\\Users\\PC\\AppData\\Local\\Temp\\ipykernel_10684\\2446819636.py\"\u001b[1;36m, line \u001b[1;32m7\u001b[0m\n\u001b[1;33m    1age = 30 #names cannot start with a number\u001b[0m\n\u001b[1;37m     ^\u001b[0m\n\u001b[1;31mSyntaxError\u001b[0m\u001b[1;31m:\u001b[0m invalid syntax\n"
     ]
    }
   ],
   "source": [
    "#valid variable names \n",
    "age = 25 \n",
    "name = \"John\"\n",
    "_isValue = True\n",
    "\n",
    "#invalid variable names\n",
    "1age = 30 #names cannot start with a number\n"
   ]
  },
  {
   "cell_type": "markdown",
   "id": "2fd33df4",
   "metadata": {},
   "source": [
    "### 3. Data Types of Variables\n",
    "Python variables can hold different types of data. Here are some common types:\n",
    "\n",
    "- Integer: Whole numbers, e.g., x = 10.\n",
    "- Float: Decimal numbers, e.g., y = 3.14.\n",
    "- String: Text, e.g., greeting = \"Hello\".\n",
    "- Boolean: True or False values, e.g., is_valid = True.\n",
    "- List: A collection of items, e.g., numbers = [1, 2, 3].\n",
    "- Tuple: An immutable collection of items, e.g., coordinates = (1, 2).\n",
    "- Dictionary: A collection of key-value pairs, e.g., person = {\"name\": \"Alice\", \"age\": 30}."
   ]
  },
  {
   "cell_type": "markdown",
   "id": "da6a57bf",
   "metadata": {},
   "source": [
    "### 4. Reassigning Values\n",
    "You can reassign a value to an existing variable. Since Python is dynamically typed, the type of the variable can also change."
   ]
  },
  {
   "cell_type": "code",
   "execution_count": 7,
   "id": "9bdebf35",
   "metadata": {},
   "outputs": [],
   "source": [
    "x = 10        # Integer\n",
    "x = \"Hello\"   # Now x is a string\n",
    "x = [1, 2, 3] # Now x is a list\n"
   ]
  },
  {
   "cell_type": "markdown",
   "id": "2cee3a97",
   "metadata": {},
   "source": [
    "### 5. Multiple Assignments\n",
    "Python allows you to assign values to multiple variables in a single line."
   ]
  },
  {
   "cell_type": "code",
   "execution_count": 9,
   "id": "a83a6981",
   "metadata": {},
   "outputs": [
    {
     "name": "stdout",
     "output_type": "stream",
     "text": [
      "1\n",
      "2.5\n",
      "Hello\n"
     ]
    }
   ],
   "source": [
    "a, b, c = 1, 2.5, \"Hello\"\n",
    "print(a)  # 1\n",
    "print(b)  # 2.5\n",
    "print(c)  # \"Hello\"\n"
   ]
  },
  {
   "cell_type": "code",
   "execution_count": 10,
   "id": "dfba1a71",
   "metadata": {},
   "outputs": [
    {
     "name": "stdout",
     "output_type": "stream",
     "text": [
      "100 100 100\n"
     ]
    }
   ],
   "source": [
    "x = y = z = 100\n",
    "print(x, y, z)  # 100 100 100\n"
   ]
  },
  {
   "cell_type": "markdown",
   "id": "28d8d471",
   "metadata": {},
   "source": [
    "### 6. Type Checking and Conversion\n",
    "You can check the type of a variable using the type() function."
   ]
  },
  {
   "cell_type": "code",
   "execution_count": 11,
   "id": "3876a8f7",
   "metadata": {},
   "outputs": [
    {
     "name": "stdout",
     "output_type": "stream",
     "text": [
      "<class 'int'>\n",
      "<class 'float'>\n"
     ]
    }
   ],
   "source": [
    "a = 10\n",
    "print(type(a))  # <class 'int'>\n",
    "\n",
    "b = 3.14\n",
    "print(type(b))  # <class 'float'>\n"
   ]
  },
  {
   "cell_type": "code",
   "execution_count": 12,
   "id": "e6bf6f0e",
   "metadata": {},
   "outputs": [
    {
     "name": "stdout",
     "output_type": "stream",
     "text": [
      "10.0\n",
      "10\n"
     ]
    }
   ],
   "source": [
    "a = 10  # Integer\n",
    "b = float(a)  # Convert to float\n",
    "print(b)  # 10.0\n",
    "\n",
    "c = str(a)  # Convert to string\n",
    "print(c)  # \"10\"\n"
   ]
  },
  {
   "cell_type": "markdown",
   "id": "a95c77f8",
   "metadata": {},
   "source": [
    "### 7. Global vs Local Variables\n",
    "- Local variables: Variables that are defined inside a function and can only be used within that function.\n",
    "- Global variables: Variables that are defined outside of all functions and can be accessed anywhere in the script."
   ]
  },
  {
   "cell_type": "code",
   "execution_count": 13,
   "id": "5ba4de66",
   "metadata": {},
   "outputs": [
    {
     "name": "stdout",
     "output_type": "stream",
     "text": [
      "5\n",
      "10\n"
     ]
    }
   ],
   "source": [
    "# Global variable\n",
    "x = 5\n",
    "\n",
    "def my_function():\n",
    "    # Local variable\n",
    "    y = 10\n",
    "    print(x)  # Can access global variable\n",
    "    print(y)  # Can access local variable\n",
    "\n",
    "my_function()\n",
    "# print(y)  # Error: y is not defined outside the function\n"
   ]
  },
  {
   "cell_type": "markdown",
   "id": "2eafe010",
   "metadata": {},
   "source": [
    "### 8. Constants in Python\n",
    "Python does not have built-in constant variables, but you can use all-uppercase names to indicate constants (this is a convention, not a rule)."
   ]
  },
  {
   "cell_type": "code",
   "execution_count": 14,
   "id": "e819e879",
   "metadata": {},
   "outputs": [],
   "source": [
    "PI = 3.14159  # Constant\n",
    "MAX_USERS = 1000  # Constant\n"
   ]
  },
  {
   "cell_type": "markdown",
   "id": "b9e20648",
   "metadata": {},
   "source": [
    "### 9. Unpacking Variables\n",
    "You can unpack values from data structures like lists or tuples into variables."
   ]
  },
  {
   "cell_type": "code",
   "execution_count": 15,
   "id": "1b114518",
   "metadata": {},
   "outputs": [
    {
     "name": "stdout",
     "output_type": "stream",
     "text": [
      "1 2 3\n",
      "Alice 30\n"
     ]
    }
   ],
   "source": [
    "# Unpacking a list into variables\n",
    "data = [1, 2, 3]\n",
    "a, b, c = data\n",
    "print(a, b, c)  # 1 2 3\n",
    "\n",
    "# Unpacking a tuple\n",
    "person = (\"Alice\", 30)\n",
    "name, age = person\n",
    "print(name, age)  # Alice 30\n"
   ]
  },
  {
   "cell_type": "code",
   "execution_count": null,
   "id": "d838eeaf",
   "metadata": {},
   "outputs": [],
   "source": []
  }
 ],
 "metadata": {
  "kernelspec": {
   "display_name": "Python 3 (ipykernel)",
   "language": "python",
   "name": "python3"
  },
  "language_info": {
   "codemirror_mode": {
    "name": "ipython",
    "version": 3
   },
   "file_extension": ".py",
   "mimetype": "text/x-python",
   "name": "python",
   "nbconvert_exporter": "python",
   "pygments_lexer": "ipython3",
   "version": "3.9.13"
  }
 },
 "nbformat": 4,
 "nbformat_minor": 5
}
